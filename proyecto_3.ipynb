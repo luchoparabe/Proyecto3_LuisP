{
 "cells": [
  {
   "cell_type": "markdown",
   "metadata": {},
   "source": [
    "# Proyecto 3\n",
    "\n",
    "Esta tarea requiere que encuentres al menos dos datasets en la web que estén relacionados, y que visualices estos conjuntos de datos para responder una pregunta acerca de un tema amplio (por ejemplo: deportes, salud, actividad económica, comparaciones demográficas, climática, etc.) para la región de Salto, o Uruguay más ampliamente.\n",
    "\n",
    "Debes combinar estos conjuntos de datos con datos de Uruguay y compararlos con otras regiones o paises. Por ejemplo, es posible que desee comparar un departamento de Uruguay, con una región de similares características en otro país. O datos de Uruguay comparados con otros países. En todos los casos al menos un archivo fuente debe ser de Uruguay o de uno de sus departamentos.\n",
    "\n",
    "Puede elegir los conjuntos de datos a tu discreción. Los materiales delicados, confidenciales, ilícitos y patentados no son buenas opciones para conjuntos de datos para esta tarea.\n",
    "\n",
    "Además, puedes conservar los datos en su idioma original, pero es una buena práctica también proporcionarlos con traducciones. Puedes proporcionar múltiples imágenes con las mismas visualizaciones pero en diferentes idiomas.\n",
    "\n",
    "## Indicaciones\n",
    "\n",
    "- Indica la región y la categoría de dominio de la que tratan los datasets (por ejemplo: Región: Salto, Uruguay; Categoría de dominio: deportes o atletismo).\n",
    "- Debes formular una pregunta sobre la categoría de dominio y la región que identificaste como interesante.\n",
    "- Debe proporcionar al menos dos enlaces a conjuntos de datos o datasets disponibles en la web. Estos pueden ser enlaces a archivos (csv o xls), o enlaces a sitios web que pueden tener datos en forma tabular, como páginas de Wikipedia.\n",
    "- Debes generar al menos una imagen que responda a la pregunta de investigación que planteaste. Además de abordar la pregunta, esta imagen debe seguir los principios de Cairo de veracidad, funcionalidad, belleza y perspicacia.\n",
    "- Debes contribuir con una breve justificación escrita (1-2 párrafos) de cómo su visualización aborda la pregunta de investigación planteada.\n",
    "- Todo esto en un único archivo de Jupyter Notebook que debe contener las siguientes secciones:\n",
    "  - Región y Dominio\n",
    "  - Pregunta\n",
    "  - Enlaces\n",
    "  - Código con comentarios\n",
    "  - Imágenes\n",
    "  - Conclusión\n",
    "\n",
    "## Consejos\n",
    "\n",
    "- El gobierno de Uruguay tiene una política de Datos Abiertos y encontrarás información centralizada en el [Catálogo de Datos Abiertos](https://catalogodatos.gub.uy/).\n",
    "- Wikipedia es una excelente fuente de datos y te recomendamos que la explores en busca de nuevas fuentes de datos.\n",
    "- Varias agencias internacionales, como las [Naciones Unidas](https://data.un.org/), el [Banco Mundial](https://data.worldbank.org/) son otros excelentes lugares para buscar datos. En la WebAsignatura encontrarás más enlaces.\n",
    "- Esta tarea requiere que conviertas y limpies los archivos de datos.\n",
    "- Consulta en el foro de WebAsignatura para obtener consejos sobre cómo hacer esto de varias fuentes y comparte tus éxitos con tus compañeros.\n"
   ]
  },
  {
   "cell_type": "markdown",
   "metadata": {},
   "source": []
  },
  {
   "cell_type": "code",
   "execution_count": 23,
   "metadata": {
    "collapsed": false
   },
   "outputs": [
    {
     "name": "stdout",
     "output_type": "stream",
     "text": [
      "    Año  Tasa de Mortalidad\n",
      "0  2013                76.8\n",
      "1  2014                73.4\n",
      "2  2015                70.2\n",
      "3  2016                67.2\n",
      "4  2017                64.6\n",
      "5  2018                62.2\n",
      "    Anio  valor\n",
      "23  2013   10.2\n",
      "24  2014    8.9\n",
      "25  2015    8.7\n",
      "26  2016    9.1\n",
      "27  2017    7.9\n",
      "28  2018    8.4\n"
     ]
    },
    {
     "data": {
      "image/png": "[encoded data removed]",
      "text/plain": [
       "<Figure size 640x480 with 1 Axes>"
      ]
     },
     "metadata": {},
     "output_type": "display_data"
    },
    {
     "name": "stdout",
     "output_type": "stream",
     "text": [
      "    Año  Tasa de Mortalidad\n",
      "0  2013                76.8\n",
      "1  2014                73.4\n",
      "2  2015                70.2\n",
      "3  2016                67.2\n",
      "4  2017                64.6\n",
      "5  2018                62.2\n"
     ]
    }
   ],
   "source": [
    "import pandas as pd\n",
    "import numpy as np\n",
    "import matplotlib.pyplot as plt\n",
    "import matplotlib.ticker as mtick\n",
    "\n",
    "# REGION: Se ha seleccionado Uruguay como region princiapl comparada con regiones internacionales, principalmete Afghanistan\n",
    "# DOMINIO: Indicadores de Mortalidad Infantil, por debajo de los 5 años de edad\n",
    "\n",
    "#Como ha sido la evolucion de la tasa de Mortalidad infantil en Uruguay comparada con el pais de peor tasa de mortalidad en el mundo? \n",
    "\n",
    "# Enlaces datasets: Mortalidad Uruguay: https://catalogodatos.gub.uy/dataset/mides-indicador-9275\n",
    "# Enlaces datasets: Mortalidad Internacional: https://data.worldbank.org/indicator/SH.DYN.MORT\n",
    "\n",
    "# Primero Se lee los archivos  CSV\n",
    "\n",
    "\n",
    "dataset_mort_uy = pd.read_csv(\"Tasa_mort_uy_new.csv\",delimiter=\",\",encoding=\"latin1\")\n",
    "Tasa_mort_intern = pd.read_csv(\"Tasa_mort_intern.csv\",delimiter=\",\",skiprows=4)\n",
    "\n",
    "# Filtramos las columnas del dataset Internacional que nos interesa\n",
    "Tasa_mort_intern = Tasa_mort_intern  [[\"Country Name\", \"2013\", \"2014\",\"2015\",\"2016\",\"2017\",\"2018\"]]\n",
    "\n",
    "# Filtramos las filas del dataset de Uruguay que nos interesa\n",
    "\n",
    "dataset_mort_uy= dataset_mort_uy [(dataset_mort_uy [\"Anio\"]>=2013) & (dataset_mort_uy [\"Anio\"]<=2018)]\n",
    "\n",
    "# Convertimos a stream los datos de los años para que sea compatible con los de Afghanistan\n",
    "\n",
    "dataset_mort_uy[\"Anio\"] = dataset_mort_uy[\"Anio\"].astype(str)\n",
    "\n",
    "# Filtramos de todos los internacionales, solo el de Afghanistan\n",
    "Tasa_mort_intern  = Tasa_mort_intern  [(Tasa_mort_intern [\"Country Name\"] == \"Afghanistan\")]\n",
    "\n",
    "dataset_mort_Intern = Tasa_mort_intern  [[\"2013\",\"2014\",\"2015\",\"2016\",\"2017\",\"2018\"]]\n",
    "\n",
    "# Pasamos a campos lo que antes teniamos en columnas y creamos nuevos encabezados de columnas \n",
    "dataset_mort_Intern = dataset_mort_Intern.melt(var_name=\"Año\", value_name=\"Tasa de Mortalidad\")\n",
    "\n",
    "\n",
    "# A partir de aca graficamos\n",
    "\n",
    "plt.plot(dataset_mort_uy[\"Anio\"], dataset_mort_uy[\"valor\"], label=\"Uruguay\")\n",
    "plt.plot(dataset_mort_Intern[\"Año\"],dataset_mort_Intern[\"Tasa de Mortalidad\"],label=\"Afghanistan\")\n",
    "plt.xlabel(\"Año\")\n",
    "plt.ylabel(\"Tasa de Mortalidad\")\n",
    "plt.legend()\n",
    "plt.title(\"Tasa de Mortalidad\")\n",
    "plt.show()\n",
    "\n",
    "\n"
   ]
  },
  {
   "cell_type": "markdown",
   "metadata": {},
   "source": [
    "# Conclusión \n",
    "\n",
    "- Hemos decidido comparar Uruguay con el pais de peor tasa de mortalidad del mundo para observar la tendencia, la tendencia de las tasas a los largos de los años, Uruguay ha sido estable en los ultimos años, pero si miramos Afghanistan podemos ver que decrese pero aun asi es muy alta en comparacion con Uruguay. Refleja que nuestro pais esta con tasas muy estables pero por sobre todo muy bajas."
   ]
  }
 ],
 "metadata": {
  "kernelspec": {
   "display_name": "Python 3",
   "language": "python",
   "name": "python3"
  },
  "language_info": {
   "codemirror_mode": {
    "name": "ipython",
    "version": 3
   },
   "file_extension": ".py",
   "mimetype": "text/x-python",
   "name": "python",
   "nbconvert_exporter": "python",
   "pygments_lexer": "ipython3",
   "version": "3.10.9"
  }
 },
 "nbformat": 4,
 "nbformat_minor": 1
}
